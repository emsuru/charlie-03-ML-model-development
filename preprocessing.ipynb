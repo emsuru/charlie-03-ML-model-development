{
 "cells": [
  {
   "cell_type": "markdown",
   "metadata": {},
   "source": [
    "# 1. Hello data, who are you?"
   ]
  },
  {
   "cell_type": "code",
   "execution_count": 30,
   "metadata": {},
   "outputs": [
    {
     "name": "stdout",
     "output_type": "stream",
     "text": [
      "Number of observations: 75511\n",
      "Number of features: 30\n",
      "Columns with missing values: 10 out of 30\n",
      "Index\t| Feature |\t| Missing values |\n",
      "1\tcadastral_income\t59.55%\n",
      "2\tsurface_land_sqm\t48.01%\n",
      "3\tconstruction_year\t44.22%\n",
      "4\tprimary_energy_consumption_sqm\t35.18%\n",
      "5\tnbr_frontages\t34.89%\n",
      "6\tlatitude\t18.67%\n",
      "7\tlongitude\t18.67%\n",
      "8\tterrace_sqm\t17.40%\n",
      "9\ttotal_area_sqm\t10.08%\n",
      "10\tgarden_sqm\t3.89%\n"
     ]
    }
   ],
   "source": [
    "import pandas as pd\n",
    "\n",
    "# Load your dataset as df_0\n",
    "df_0 = pd.read_csv('data/properties.csv')\n",
    "\n",
    "# How big are ya? Number of observations & features\n",
    "print(\"Number of observations:\", df_0.shape[0])\n",
    "print(\"Number of features:\", df_0.shape[1])\n",
    "\n",
    "# Do you have any missing values?\n",
    "missing_values_count = df_0.isnull().sum()\n",
    "columns_with_missing_values = missing_values_count[missing_values_count > 0]\n",
    "print(f\"Columns with missing values: {len(columns_with_missing_values)} out of {df_0.shape[1]}\")\n",
    "\n",
    "percent_missing = (columns_with_missing_values / df_0.shape[0]) * 100\n",
    "percent_missing_sorted = percent_missing.sort_values(ascending=False)\n",
    "print(\"Index\", \"| Feature |\", \"| Missing values |\", sep=\"\\t\")\n",
    "for index, (feature, percent) in enumerate(percent_missing_sorted.items(), start=1):\n",
    "    print(index, feature, f\"{percent:.2f}%\", sep=\"\\t\")\n"
   ]
  },
  {
   "cell_type": "code",
   "execution_count": 34,
   "metadata": {},
   "outputs": [
    {
     "name": "stdout",
     "output_type": "stream",
     "text": [
      "Number of numerical features: 21\n",
      "\n",
      "Number of categorical features: 9 \n",
      "\n",
      "\n",
      "Categorical features: property_type, subproperty_type, region, province, locality, equipped_kitchen, state_building, epc, heating_type\n",
      "property_type: 2 unique values\n",
      "property_type: ['APARTMENT' 'HOUSE']\n",
      "subproperty_type: 23 unique values\n",
      "subproperty_type: ['APARTMENT' 'HOUSE' 'DUPLEX' 'VILLA' 'EXCEPTIONAL_PROPERTY' 'FLAT_STUDIO'\n",
      " 'GROUND_FLOOR' 'PENTHOUSE' 'FARMHOUSE' 'APARTMENT_BLOCK'\n",
      " 'COUNTRY_COTTAGE' 'TOWN_HOUSE' 'SERVICE_FLAT' 'MANSION'\n",
      " 'MIXED_USE_BUILDING' 'MANOR_HOUSE' 'LOFT' 'BUNGALOW' 'KOT' 'CASTLE'\n",
      " 'CHALET' 'OTHER_PROPERTY' 'TRIPLEX']\n",
      "region: 4 unique values\n",
      "region: ['Flanders' 'Brussels-Capital' 'Wallonia' 'MISSING']\n",
      "province: 12 unique values\n",
      "province: ['Antwerp' 'East Flanders' 'Brussels' 'Walloon Brabant' 'Flemish Brabant'\n",
      " 'Liège' 'West Flanders' 'Hainaut' 'Luxembourg' 'Limburg' 'Namur'\n",
      " 'MISSING']\n",
      "locality: 44 unique values\n",
      "locality: ['Antwerp' 'Gent' 'Brussels' 'Turnhout' 'Nivelles' 'Halle-Vilvoorde'\n",
      " 'Liège' 'Brugge' 'Sint-Niklaas' 'Veurne' 'Verviers' 'Mechelen'\n",
      " 'Charleroi' 'Dendermonde' 'Bastogne' 'Leuven' 'Hasselt' 'Mons' 'Aalst'\n",
      " 'Tournai' 'Oostend' 'Oudenaarde' 'Philippeville' 'Kortrijk' 'Dinant'\n",
      " 'Ieper' 'Huy' 'Marche-en-Famenne' 'Namur' 'Maaseik' 'Mouscron'\n",
      " 'Diksmuide' 'Soignies' 'Neufchâteau' 'Arlon' 'Tongeren' 'Waremme' 'Thuin'\n",
      " 'Virton' 'Ath' 'Roeselare' 'Tielt' 'Eeklo' 'MISSING']\n",
      "equipped_kitchen: 9 unique values\n",
      "equipped_kitchen: ['INSTALLED' 'MISSING' 'HYPER_EQUIPPED' 'NOT_INSTALLED' 'USA_UNINSTALLED'\n",
      " 'USA_HYPER_EQUIPPED' 'SEMI_EQUIPPED' 'USA_INSTALLED' 'USA_SEMI_EQUIPPED']\n",
      "state_building: 7 unique values\n",
      "state_building: ['MISSING' 'AS_NEW' 'GOOD' 'TO_RENOVATE' 'TO_BE_DONE_UP' 'JUST_RENOVATED'\n",
      " 'TO_RESTORE']\n",
      "epc: 10 unique values\n",
      "epc: ['C' 'MISSING' 'A' 'A+' 'D' 'B' 'E' 'G' 'F' 'A++']\n",
      "heating_type: 8 unique values\n",
      "heating_type: ['GAS' 'MISSING' 'FUELOIL' 'PELLET' 'ELECTRIC' 'CARBON' 'SOLAR' 'WOOD']\n"
     ]
    }
   ],
   "source": [
    "# How many numerical features\n",
    "numerical_cols = df_0.select_dtypes(include=['int64', 'float64']).columns\n",
    "print(\"Number of numerical features:\", len(numerical_cols))\n",
    "# How many categorical features\n",
    "categorical_cols = df_0.select_dtypes(include=['object', 'category']).columns\n",
    "print(\"\\nNumber of categorical features:\", len(categorical_cols), \"\\n\")\n",
    "print(\"\\nCategorical features:\", \", \".join(categorical_cols))\n",
    "\n",
    "# Let's see the unique values for each categorical column\n",
    "for column in categorical_cols:\n",
    "    unique_values = df_0[column].unique()\n",
    "    print(f\"{column}: {len(unique_values)} unique values\")\n",
    "    print(f\"{column}: {unique_values}\")\n"
   ]
  },
  {
   "cell_type": "markdown",
   "metadata": {},
   "source": [
    "## 2. Cleanup drill:\n",
    "\n",
    "1.  check & drop duplicates\n",
    "2.  are min & max values coherent\n",
    "3.  are unique values coherent\n",
    "4.  check attribute types\n",
    "5.  check for missing values (drop cols with > 50% missing vals) \n",
    "6.  check for outliers (dont't do anything now)\n"
   ]
  },
  {
   "cell_type": "code",
   "execution_count": null,
   "metadata": {},
   "outputs": [],
   "source": []
  },
  {
   "cell_type": "code",
   "execution_count": 15,
   "metadata": {},
   "outputs": [
    {
     "name": "stdout",
     "output_type": "stream",
     "text": [
      "Number of observations: 75511\n",
      "Number of features: 30\n",
      "Number of numerical features: 21\n",
      "Number of categorical features: 9\n",
      "Categorical features: Index(['property_type', 'subproperty_type', 'region', 'province', 'locality',\n",
      "       'equipped_kitchen', 'state_building', 'epc', 'heating_type'],\n",
      "      dtype='object')\n",
      "Feature\tNumber of Nulls\tPercentage of Nulls\n",
      "cadastral_income\t44967\t59.55%\n",
      "surface_land_sqm\t36256\t48.01%\n",
      "construction_year\t33391\t44.22%\n",
      "primary_energy_consumption_sqm\t26567\t35.18%\n",
      "nbr_frontages\t26346\t34.89%\n",
      "latitude\t14098\t18.67%\n",
      "longitude\t14098\t18.67%\n",
      "terrace_sqm\t13140\t17.40%\n",
      "total_area_sqm\t7615\t10.08%\n",
      "garden_sqm\t2939\t3.89%\n",
      "fl_floodzone\t0\t0.00%\n",
      "state_building\t0\t0.00%\n",
      "fl_terrace\t0\t0.00%\n",
      "epc\t0\t0.00%\n",
      "heating_type\t0\t0.00%\n",
      "fl_double_glazing\t0\t0.00%\n",
      "fl_swimming_pool\t0\t0.00%\n",
      "fl_garden\t0\t0.00%\n",
      "id\t0\t0.00%\n",
      "fl_open_fire\t0\t0.00%\n",
      "fl_furnished\t0\t0.00%\n",
      "price\t0\t0.00%\n",
      "nbr_bedrooms\t0\t0.00%\n",
      "zip_code\t0\t0.00%\n",
      "locality\t0\t0.00%\n",
      "province\t0\t0.00%\n",
      "region\t0\t0.00%\n",
      "subproperty_type\t0\t0.00%\n",
      "property_type\t0\t0.00%\n",
      "equipped_kitchen\t0\t0.00%\n"
     ]
    }
   ],
   "source": [
    "\n",
    "\n",
    "#print(df_0.head())\n",
    "#print(df_0.describe()) # get summary statistics\n",
    "# print(df_0.columns) # get column names\n",
    "\n",
    "# print(df_0.dtypes) # get data types\n",
    "nulls = df_0.isnull().sum().sort_values(ascending=False)\n",
    "percent_nulls = (df_0.isnull().sum() / df_0.shape[0] * 100).sort_values(ascending=False)\n",
    "print(\"Feature\", \"Number of Nulls\", \"Percentage of Nulls\", sep=\"\\t\")\n",
    "for feature in nulls.index:\n",
    "    print(feature, nulls[feature], f\"{percent_nulls[feature]:.2f}%\", sep=\"\\t\")\n",
    "\n",
    "# # Count numerical columns\n",
    "# numerical_cols = df.select_dtypes(include=['int64', 'float64']).columns\n",
    "# num_numerical = len(numerical_cols)\n",
    "# print(f\"Number of Numerical columns: {num_numerical}\")\n",
    "\n",
    "# # Count categorical columns\n",
    "# categorical_cols = df.select_dtypes(include=['object', 'category']).columns\n",
    "# num_categorical = len(categorical_cols)\n",
    "# print(f\"Number of Categorical columns: {num_categorical}\")\n",
    "\n",
    "# for column in df_0.columns:\n",
    "#     unique_values = df_0[column].unique()\n",
    "#     print(f\"{column}: {len(unique_values)} unique values\")\n",
    "#     print(f\"{column}: {unique_values}\")\n"
   ]
  }
 ],
 "metadata": {
  "kernelspec": {
   "display_name": "venv-charlie-3",
   "language": "python",
   "name": "python3"
  },
  "language_info": {
   "codemirror_mode": {
    "name": "ipython",
    "version": 3
   },
   "file_extension": ".py",
   "mimetype": "text/x-python",
   "name": "python",
   "nbconvert_exporter": "python",
   "pygments_lexer": "ipython3",
   "version": "3.12.2"
  }
 },
 "nbformat": 4,
 "nbformat_minor": 2
}
